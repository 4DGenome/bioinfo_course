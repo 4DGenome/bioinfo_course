{
 "cells": [
  {
   "cell_type": "markdown",
   "metadata": {
    "toc": "true"
   },
   "source": [
    "# Table of Contents\n",
    " <p><div class=\"lev1 toc-item\"><a href=\"#Before-we-start...\" data-toc-modified-id=\"Before-we-start...-1\"><span class=\"toc-item-num\">1&nbsp;&nbsp;</span>Before we start...</a></div><div class=\"lev2 toc-item\"><a href=\"#Access-to-the-CRG-cluster\" data-toc-modified-id=\"Access-to-the-CRG-cluster-11\"><span class=\"toc-item-num\">1.1&nbsp;&nbsp;</span>Access to the CRG cluster</a></div><div class=\"lev2 toc-item\"><a href=\"#Listing-files-and-directories\" data-toc-modified-id=\"Listing-files-and-directories-12\"><span class=\"toc-item-num\">1.2&nbsp;&nbsp;</span>Listing files and directories</a></div><div class=\"lev2 toc-item\"><a href=\"#README-files\" data-toc-modified-id=\"README-files-13\"><span class=\"toc-item-num\">1.3&nbsp;&nbsp;</span>README files</a></div><div class=\"lev1 toc-item\"><a href=\"#Introduction\" data-toc-modified-id=\"Introduction-2\"><span class=\"toc-item-num\">2&nbsp;&nbsp;</span>Introduction</a></div><div class=\"lev2 toc-item\"><a href=\"#FASTQ-files\" data-toc-modified-id=\"FASTQ-files-21\"><span class=\"toc-item-num\">2.1&nbsp;&nbsp;</span>FASTQ files</a></div><div class=\"lev2 toc-item\"><a href=\"#Quality-control-of-the-raw-reads\" data-toc-modified-id=\"Quality-control-of-the-raw-reads-22\"><span class=\"toc-item-num\">2.2&nbsp;&nbsp;</span>Quality control of the raw reads</a></div><div class=\"lev2 toc-item\"><a href=\"#Making-sense-of-reads\" data-toc-modified-id=\"Making-sense-of-reads-23\"><span class=\"toc-item-num\">2.3&nbsp;&nbsp;</span>Making sense of reads</a></div><div class=\"lev1 toc-item\"><a href=\"#File-formats-explained\" data-toc-modified-id=\"File-formats-explained-3\"><span class=\"toc-item-num\">3&nbsp;&nbsp;</span>File formats explained</a></div><div class=\"lev2 toc-item\"><a href=\"#BED-format\" data-toc-modified-id=\"BED-format-31\"><span class=\"toc-item-num\">3.1&nbsp;&nbsp;</span>BED format</a></div><div class=\"lev2 toc-item\"><a href=\"#narrowPeak-format\" data-toc-modified-id=\"narrowPeak-format-32\"><span class=\"toc-item-num\">3.2&nbsp;&nbsp;</span>narrowPeak format</a></div><div class=\"lev2 toc-item\"><a href=\"#bigWig\" data-toc-modified-id=\"bigWig-33\"><span class=\"toc-item-num\">3.3&nbsp;&nbsp;</span>bigWig</a></div><div class=\"lev1 toc-item\"><a href=\"#The-data\" data-toc-modified-id=\"The-data-4\"><span class=\"toc-item-num\">4&nbsp;&nbsp;</span>The data</a></div>"
   ]
  },
  {
   "cell_type": "markdown",
   "metadata": {},
   "source": [
    "# Before we start...\n",
    "\n",
    "## Access to the CRG cluster\n",
    "\n",
    "Most of the analyses we will perform in this session can be run locally from your computer. However, there are several reasons to perform them in the CRG cluster:\n",
    "- programs we will use (and other you may want to use in the future) are already installed\n",
    "- more powerful\n",
    "- lab data are stored there\n",
    "- data are backed up\n",
    "\n",
    "Open a Terminal (Applications > Utilities > Terminal) and connect to the CRG cluster by typing:\n",
    "```\n",
    "ssh ...\n",
    "# password =\n",
    "```\n",
    "\n",
    "## Listing files and directories\n",
    "\n",
    "The Unix environment works very similar to the Windows/Mac/Ubuntu file systems. Now you are in a given directory (or folder), which can have additional directories and files. Unix have a set of built-in functions/programs that allow you to do things. For instance, you can use the `ls` function to see the content of the current directory:\n",
    "```\n",
    "ls\n",
    "```\n",
    "\n",
    "The output of most Unix functions can be modulated by passing them different options. For instance, if we use:\n",
    "```\n",
    "ls -l -t -h\n",
    "```\n",
    "- `ls`: lists files and directories\n",
    "- `l`: shows content as a list together with additional information (e.g. size, last time edited)\n",
    "- `t`: sorts the date of the last edit\n",
    "- `h`: shows size in human-readable units (i.e. KB, MB...)\n",
    "\n",
    "The above can be compressed as:\n",
    "```\n",
    "ls -lth\n",
    "```\n",
    "You can learn about additional options with:\n",
    "```\n",
    "man ls\n",
    "```\n",
    "- man can be applied to any Unix function\n",
    "- you can quit the manual page with by typing `q`\n",
    "\n",
    "By default `ls` lists the content in the current directory, but it can also used to list the content in any directory:\n",
    "```\n",
    "ls -l session01\n",
    "```\n",
    "And you can go as down as you want in the path, for instance:\n",
    "```\n",
    "ls -l session01/data\n",
    "```\n",
    "\n",
    "## README files\n",
    "\n",
    "Inspecting the content within the `session01` directory reveals the `README.html` --the very same file you are reading now! We could have named this file with any name. However, including a [README](https://en.wikipedia.org/wiki/README) file is a convention computing people use to say \"hey, here you will find information it is worth reading to start with\". README files are normally just plain text (\\*.txt) or [Markdown](https://guides.github.com/features/mastering-markdown/) (\\*.md) files (the latter format enables some text formatting, which makes reading easier); here I have converted it to an HTML file for the sake of showing it online."
   ]
  },
  {
   "cell_type": "markdown",
   "metadata": {},
   "source": [
    "# Introduction\n",
    "\n",
    "## FASTQ files\n",
    "\n",
    "Simplistically speaking the output of high-throughput sequencing (HTS) machines are reads. These are stored in FASTQ files, which get this name from the [FASTQ format](https://en.wikipedia.org/wiki/FASTQ_format) in which reads are written. Essentially, a FASTQ file has millions of the following blocks:\n",
    "\n",
    "**TODO: USE A FASTQ OF OURS**\n",
    "```\n",
    "@D00733:172:CA8BAANXX:8:2211:1214:2222 1:N:0:AACCAG\n",
    "ATTGCCTAGGTTTTCTTCTAGGGTTTTTATGGTTTTAGGTCTAAAACACC\n",
    "+\n",
    "AB?ABFGFG>1?1FFGGFDGG1=1>/0C:111<EGGGG>1EFG@FF1FGF\n",
    "```\n",
    "Lines:\n",
    "1. unique read ID plus sequencing information (Illumina machine, index...)\n",
    "2. read sequence\n",
    "3. irrelevant waste of space...\n",
    "4. per-position quality\n",
    "\n",
    "\n",
    "## Quality control of the raw reads\n",
    "\n",
    "FASTQ files as obtained from the sequencer, typically referred to as \"raw reads\" are passed to programs which assess the quality of the reads in many ways. One of the most commonly used of such programs and the one we use is [FastQC](http://www.bioinformatics.babraham.ac.uk/projects/fastqc/), which generates web-like as [this](...).\n",
    "\n",
    "**TODO: EXPLAIN FASTQC MODULES, ADD LINK TO EXAMPLES**\n",
    "\n",
    "\n",
    "## Making sense of reads\n",
    "\n",
    "Reads themselves do not tell much so there are some steps that are commonly performed in order to make sense of ChIP-seq data (many of them are common to many \\*seq applications although each of them will require specific variations):\n",
    "- trimming of technical sequences and low-quality ends\n",
    "- alignment to the genome reference sequence\n",
    "- generation of read counts profiles\n",
    "- identification of regions of signal enrichment (aka peaks or binding sites)\n",
    "\n",
    "These steps are illustrated [here](https://drive.google.com/open?id=0B-MXr-KyKmm6a1JOQnM0bUFSNGM)."
   ]
  },
  {
   "cell_type": "markdown",
   "metadata": {},
   "source": [
    "# File formats explained\n",
    "\n",
    "There are many HTS-related file formats out there (too many indeed!) so here we will only cover those used in this session.\n",
    "\n",
    "## BED format\n",
    "\n",
    "A tab-delimited no-header format to define the genomic coordinates and (optionally) some attributes of a set of genomic features. In its simplest form it has 3 mandatory fields:\n",
    "```\n",
    "chr22\t1000\t5000\n",
    "chr22\t2000\t6000\n",
    "```\n",
    "Fields:\n",
    "1. chromosome\n",
    "2. feature start\n",
    "2. feature end\n",
    "\n",
    "A [BED file](https://genome.ucsc.edu/FAQ/FAQformat#format1) can have 9 additional fields/columns, which allow embedding additional attributes as we will see next.\n",
    "\n",
    "## narrowPeak format\n",
    "\n",
    "A format generated by the [ENCODE](https://www.encodeproject.org/) project to provide ChIP-seq peaks. It derives from the BED format and has the 3 first fields defining the genomic coordinates plus 7 more fields with information on the peaks (see [here](https://genome.ucsc.edu/FAQ/FAQformat#format12)). As we will see later, besides the genomic coordinates fields, the fields we pay more attention to are the 'signalValue' (signal enrichment) and the 'qValue' (significance).\n",
    "\n",
    "## bigWig\n",
    "\n",
    "More generally, *\"the [bigWig format](https://genome.ucsc.edu/FAQ/FAQformat#format6.1) is for display of dense, continuous data\"*. Here specifically is used to represent the number of read counts, preferably normalised, in genomic bins (i.e. ChIP-seq signal). Unlike the two previous formats, which can opened as a text file (yet this is not recommended as they can be very big!), bigWigs are binary files and cannot be opened."
   ]
  },
  {
   "cell_type": "markdown",
   "metadata": {
    "collapsed": true
   },
   "source": [
    "# The data"
   ]
  },
  {
   "cell_type": "code",
   "execution_count": null,
   "metadata": {
    "collapsed": false
   },
   "outputs": [],
   "source": []
  },
  {
   "cell_type": "code",
   "execution_count": null,
   "metadata": {
    "collapsed": true
   },
   "outputs": [],
   "source": []
  }
 ],
 "metadata": {
  "hide_input": false,
  "kernelspec": {
   "display_name": "Python 2",
   "language": "python",
   "name": "python2"
  },
  "language_info": {
   "codemirror_mode": {
    "name": "ipython",
    "version": 2
   },
   "file_extension": ".py",
   "mimetype": "text/x-python",
   "name": "python",
   "nbconvert_exporter": "python",
   "pygments_lexer": "ipython2",
   "version": "2.7.9"
  },
  "toc": {
   "colors": {
    "hover_highlight": "#DAA520",
    "running_highlight": "#FF0000",
    "selected_highlight": "#FFD700"
   },
   "moveMenuLeft": true,
   "navigate_menu": false,
   "number_sections": false,
   "sideBar": false,
   "threshold": 4,
   "toc_cell": true,
   "toc_section_display": "block",
   "toc_window_display": true
  }
 },
 "nbformat": 4,
 "nbformat_minor": 0
}
